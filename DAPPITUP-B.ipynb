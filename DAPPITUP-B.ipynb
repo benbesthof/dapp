{
 "cells": [
  {
   "cell_type": "code",
   "execution_count": 3,
   "id": "3e21ad2e-9583-4c73-baf6-2d7130614df5",
   "metadata": {},
   "outputs": [],
   "source": [
    "import pandas as pd\n",
    "import numpy as np \n",
    "import scipy as sp \n",
    "from scipy import stats \n",
    "import seaborn as sns \n",
    "import matplotlib.pyplot as plt\n",
    "from sklearn import preprocessing as pre\n",
    "from sklearn.preprocessing import MinMaxScaler\n",
    "from sklearn.preprocessing import StandardScaler\n",
    "from sklearn.linear_model import LogisticRegression\n",
    "from sklearn.linear_model import LinearRegression \n",
    "from sklearn.model_selection import train_test_split\n",
    "from sklearn.model_selection import cross_val_score\n",
    "from sklearn.metrics import confusion_matrix\n",
    "from sklearn.tree import DecisionTreeRegressor\n",
    "from sklearn.neighbors import KNeighborsClassifier\n",
    "from sklearn.preprocessing import Binarizer \n",
    "from imblearn.over_sampling import SMOTE\n"
   ]
  },
  {
   "cell_type": "code",
   "execution_count": 4,
   "id": "a4d080a9",
   "metadata": {},
   "outputs": [
    {
     "name": "stdout",
     "output_type": "stream",
     "text": [
      "pandas==1.2.4\n",
      "numpy==1.20.1\n",
      "scipy==1.6.2\n",
      "seaborn==0.11.1\n"
     ]
    }
   ],
   "source": [
    "print('\\n'.join(f'{m.__name__}=={m.__version__}' for m in globals().values() if getattr(m, '__version__', None)))\n"
   ]
  },
  {
   "cell_type": "code",
   "execution_count": 144,
   "id": "4f585303-0892-4029-ae7b-50b38cc448d2",
   "metadata": {},
   "outputs": [],
   "source": [
    "df = #database"
   ]
  },
  {
   "cell_type": "code",
   "execution_count": 145,
   "id": "c759b504-ca00-4fa0-b313-f4964b8f5a9b",
   "metadata": {},
   "outputs": [],
   "source": [
    "target = #target_variable"
   ]
  },
  {
   "cell_type": "code",
   "execution_count": 146,
   "id": "c384bb9e",
   "metadata": {},
   "outputs": [],
   "source": [
    "numerical_variables = list(df.select_dtypes(exclude = object))\n",
    "categorical_variables = list(set(df.select_dtypes(include = object)) - set(df['target']))"
   ]
  },
  {
   "cell_type": "code",
   "execution_count": 147,
   "id": "a3e2e375",
   "metadata": {},
   "outputs": [],
   "source": [
    "no_var = []\n",
    "for i in numerical_variables:\n",
    "    if df[i].std() == 0:\n",
    "        no_var.append(i)"
   ]
  },
  {
   "cell_type": "code",
   "execution_count": 148,
   "id": "92ec8f29",
   "metadata": {},
   "outputs": [],
   "source": [
    "high_card = []\n",
    "for i in categorical_variables:\n",
    "    if len(df[i].value_counts().index) > 200:\n",
    "        high_card.append(i)\n",
    "low_card = []\n",
    "for i in categorical_variables:\n",
    "    if len(df[i].value_counts().index) == 1:\n",
    "        low_card.append(i)"
   ]
  },
  {
   "cell_type": "code",
   "execution_count": 149,
   "id": "6bb66c42",
   "metadata": {},
   "outputs": [],
   "source": [
    "df = df.drop(no_var, axis = 1)\n",
    "df = df.drop(low_card, axis = 1)\n",
    "df = df.drop(high_card, axis = 1)"
   ]
  },
  {
   "cell_type": "code",
   "execution_count": 150,
   "id": "2fccff07",
   "metadata": {},
   "outputs": [],
   "source": [
    "# scaled on 0-1 \n",
    "scaled_numerical_var = [i for i in numerical_variables]\n",
    "scaled_numerical_var = list(set(scaled_numerical_var) - set(no_var))\n",
    "array = df[scaled_numerical_var].values\n",
    "datascaler = pre.MinMaxScaler(feature_range = (0,1))\n",
    "df[scaled_numerical_var] = pd.DataFrame(datascaler.fit_transform(array), columns = scaled_numerical_var)\n"
   ]
  },
  {
   "cell_type": "code",
   "execution_count": 151,
   "id": "b7b33193",
   "metadata": {},
   "outputs": [],
   "source": [
    "# Mean = 0; sigma = 1\n",
    "numerical_variables = list(set(numerical_variables) - set(no_var))\n",
    "standard_numerical_vars = [str(i) + '_standardized' for i in numerical_variables]\n",
    "array = df[numerical_variables].values\n",
    "datastand = StandardScaler().fit(array)\n",
    "df[standard_numerical_vars] = pd.DataFrame(datastand.transform(array))"
   ]
  },
  {
   "cell_type": "code",
   "execution_count": 154,
   "id": "e9062f98",
   "metadata": {},
   "outputs": [],
   "source": [
    "numerical_variables = list(df.select_dtypes(exclude = object))\n",
    "categorical_variables = list(df.select_dtypes(include = object))\n",
    "df[numerical_variables] = df[numerical_variables].fillna(df[numerical_variables].median(), inplace = False)\n",
    "df[categorical_variables] = df[categorical_variables].fillna(df[categorical_variables].mode(), inplace = False)"
   ]
  },
  {
   "cell_type": "code",
   "execution_count": 155,
   "id": "bfc8d3f3",
   "metadata": {},
   "outputs": [],
   "source": [
    "dummy_cat_df = pd.get_dummies(df[categorical_variables], drop_first = True)\n",
    "df_p = df.drop(categorical_variables, axis = 1)\n",
    "df_p = pd.concat([df_p, dummy_cat_df], axis = 1)"
   ]
  },
  {
   "cell_type": "code",
   "execution_count": null,
   "id": "755519ef",
   "metadata": {},
   "outputs": [],
   "source": [
    "oversampling = SMOTE(random_state=0)\n",
    "input_var = list(set(df_p.columns) - set(['target_Yes']))\n",
    "X, y = oversampling.fit_resample(df_p[input_var], df_p['target_Yes'])\n",
    "X = pd.DataFrame(X, columns = input_var)\n",
    "y = pd.DataFrame(y, columns = ['target_Yes'])\n",
    "df_p = pd.concat([X, y], axis = 1)\n"
   ]
  },
  {
   "cell_type": "code",
   "execution_count": null,
   "id": "8e1060f8",
   "metadata": {},
   "outputs": [],
   "source": [
    "#process database \n",
    "df_p.to_csv('database_name_processed.csv')"
   ]
  }
 ],
 "metadata": {
  "kernelspec": {
   "display_name": "Python 3",
   "language": "python",
   "name": "python3"
  },
  "language_info": {
   "codemirror_mode": {
    "name": "ipython",
    "version": 3
   },
   "file_extension": ".py",
   "mimetype": "text/x-python",
   "name": "python",
   "nbconvert_exporter": "python",
   "pygments_lexer": "ipython3",
   "version": "3.8.8"
  }
 },
 "nbformat": 4,
 "nbformat_minor": 5
}
